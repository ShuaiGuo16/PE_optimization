{
 "cells": [
  {
   "cell_type": "markdown",
   "id": "5717e11e-2795-483e-bbbd-8f827f0ae69c",
   "metadata": {},
   "source": [
    "### Objective\n",
    "\n",
    "In this notebook, we aim to train a surrogate model and use it to propose promising, feasible solution for the downstream optimization tasks."
   ]
  },
  {
   "cell_type": "code",
   "execution_count": 1,
   "id": "e8d309c5-6aef-4723-996f-0baf00dcf7b1",
   "metadata": {},
   "outputs": [
    {
     "name": "stdout",
     "output_type": "stream",
     "text": [
      "WARNING:tensorflow:From C:\\Users\\CHSHGUO\\Anaconda3\\envs\\SciML\\lib\\site-packages\\keras\\src\\losses.py:2976: The name tf.losses.sparse_softmax_cross_entropy is deprecated. Please use tf.compat.v1.losses.sparse_softmax_cross_entropy instead.\n",
      "\n",
      "WARNING:tensorflow:From C:\\Users\\CHSHGUO\\Anaconda3\\envs\\SciML\\lib\\site-packages\\tensorflow_probability\\python\\internal\\backend\\numpy\\_utils.py:48: The name tf.logging.TaskLevelStatusMessage is deprecated. Please use tf.compat.v1.logging.TaskLevelStatusMessage instead.\n",
      "\n",
      "WARNING:tensorflow:From C:\\Users\\CHSHGUO\\Anaconda3\\envs\\SciML\\lib\\site-packages\\tensorflow_probability\\python\\internal\\backend\\numpy\\_utils.py:48: The name tf.control_flow_v2_enabled is deprecated. Please use tf.compat.v1.control_flow_v2_enabled instead.\n",
      "\n"
     ]
    }
   ],
   "source": [
    "import numpy as np\n",
    "import pandas as pd\n",
    "import matplotlib.pyplot as plt\n",
    "import os\n",
    "import sys\n",
    "\n",
    "from sklearn.preprocessing import MinMaxScaler, StandardScaler \n",
    "from sklearn.model_selection import train_test_split\n",
    "from sklearn.pipeline import Pipeline\n",
    "from scipy.stats import norm, qmc\n",
    "import xgboost as xgb\n",
    "import sklearn.gaussian_process as gp\n",
    "from sklearn.metrics import mean_squared_error, mean_absolute_percentage_error, max_error, brier_score_loss\n",
    "\n",
    "# Custom Gaussian Process model\n",
    "GP_path = os.path.abspath(os.path.join('../../'))\n",
    "if GP_path not in sys.path:\n",
    "    sys.path.append(GP_path+\"\\\\GaussianProcess\")\n",
    "from GPInterpolator import GPInterpolator\n",
    "\n",
    "import gpflow\n",
    "import tensorflow as tf\n",
    "import tensorflow_probability as tfp"
   ]
  },
  {
   "cell_type": "markdown",
   "id": "6330af66-219f-4866-aec6-bbb408fc594d",
   "metadata": {},
   "source": [
    "### 1. Load dataset"
   ]
  },
  {
   "cell_type": "code",
   "execution_count": 2,
   "id": "4e0f530b-e6ef-4d07-92d2-434d266a2678",
   "metadata": {},
   "outputs": [
    {
     "name": "stdout",
     "output_type": "stream",
     "text": [
      "Training pool: 9421\n"
     ]
    }
   ],
   "source": [
    "df = pd.read_csv('./Dataset/TcTj_train.csv', header=None)\n",
    "df.columns = ['Q1', 'Q2', 'd', 'b', 'L', 'c', 'L_duct', 'n', 't', 'xc1', 'yc1', 'xc2', 'yc2', 'Tc', 'Tj', 'w']\n",
    "print(f\"Training pool: {df.shape[0]}\")"
   ]
  },
  {
   "cell_type": "code",
   "execution_count": 3,
   "id": "7875ae99-4823-4b28-b6a9-db0a272b5d4b",
   "metadata": {},
   "outputs": [
    {
     "name": "stdout",
     "output_type": "stream",
     "text": [
      "Filtered pol: 9386\n"
     ]
    }
   ],
   "source": [
    "# Remove outliers\n",
    "df = df[df.Tj<250].reset_index(drop=True)\n",
    "print(f\"Filtered pol: {df.shape[0]}\")"
   ]
  },
  {
   "cell_type": "code",
   "execution_count": 4,
   "id": "305ae07c-7117-496b-a980-6d2a2bc80a00",
   "metadata": {},
   "outputs": [
    {
     "name": "stdout",
     "output_type": "stream",
     "text": [
      "PCandidate pool: 470010\n"
     ]
    }
   ],
   "source": [
    "df_candidates = pd.read_csv('./Dataset/candidates.csv')\n",
    "df_candidates.columns = ['d', 'b', 'L', 'c', 'L_duct', 'n', 't', 'xc1', 'yc1', 'xc2', 'yc2']\n",
    "print(f\"PCandidate pool: {df_candidates.shape[0]}\")"
   ]
  },
  {
   "cell_type": "code",
   "execution_count": 5,
   "id": "91508d7d-fa3a-42d8-bd80-811847a9c547",
   "metadata": {},
   "outputs": [],
   "source": [
    "def create_samples(df, train_num):\n",
    "   \n",
    "    # Create dataset\n",
    "    X = df.iloc[:, :-3].to_numpy()\n",
    "    y = df.iloc[:, -2].to_numpy()\n",
    "    \n",
    "    # Train-test split\n",
    "    if train_num < len(df):\n",
    "        test_size = 1-train_num/len(df)\n",
    "        X_train, X_test, y_train, y_test = train_test_split(X, y, test_size=test_size, random_state=42)\n",
    "    else:\n",
    "        X_train, y_train = X, y\n",
    "        X_test, y_test = None, None\n",
    "    \n",
    "    return X_train, X_test, y_train, y_test"
   ]
  },
  {
   "cell_type": "code",
   "execution_count": 12,
   "id": "30bfcd78-394e-4eff-bb89-f48365056cf8",
   "metadata": {},
   "outputs": [],
   "source": [
    "# Train-test split\n",
    "X_train, X_test, y_train, y_test = create_samples(df, 640)"
   ]
  },
  {
   "cell_type": "markdown",
   "id": "e65491ba-c66c-42d8-a157-662641a39f86",
   "metadata": {},
   "source": [
    "### 2. Model training"
   ]
  },
  {
   "cell_type": "code",
   "execution_count": 13,
   "id": "cd09dcd0-d1a3-4756-afe5-b84899a5279b",
   "metadata": {},
   "outputs": [],
   "source": [
    "def evaluate_model(y_true, y_pred):\n",
    "    \"\"\"This function is used for evaluating the ML models performance.\"\"\"\n",
    "    \n",
    "    rmse = np.sqrt(mean_squared_error(y_true, y_pred))\n",
    "    max_e = max_error(y_true, y_pred)\n",
    "    \n",
    "    percentage = np.abs(y_true-y_pred)/y_true\n",
    "    max_percentage = np.max(percentage)*100\n",
    "    max_percentage_loc = np.argmax(percentage)\n",
    "    mean_percentage = np.mean(percentage)*100\n",
    "    \n",
    "    return rmse, max_e, max_percentage, max_percentage_loc, mean_percentage"
   ]
  },
  {
   "cell_type": "markdown",
   "id": "cbdbbe3c-4438-433c-adc6-f5720e2a07f2",
   "metadata": {},
   "source": [
    "#### Sparse Gaussian Process"
   ]
  },
  {
   "cell_type": "code",
   "execution_count": 18,
   "id": "5a8938b9-9c46-43e4-b7b2-4f7b886c8710",
   "metadata": {},
   "outputs": [],
   "source": [
    "from scipy.stats import qmc\n",
    "\n",
    "# Create initial samples\n",
    "n_restarts = 5\n",
    "lb, ub = -3, 3\n",
    "lhd = qmc.LatinHypercube(d=X_train.shape[1], seed=42).random(n_restarts)\n",
    "length_scale = (ub-lb)*lhd + lb\n",
    "length_scale = np.sqrt(1/(2*10**length_scale))\n",
    "\n",
    "scaler = MinMaxScaler()\n",
    "X_train_norm = scaler.fit_transform(X_train)"
   ]
  },
  {
   "cell_type": "code",
   "execution_count": 19,
   "id": "a4b1c4c7-296c-4e7d-adb9-dbd32ed87417",
   "metadata": {},
   "outputs": [],
   "source": [
    "from sklearn.neighbors import NearestNeighbors\n",
    "\n",
    "def sample_creator(X, sample_num, sampling_scheme='LHS'):\n",
    "    \"\"\"Space-filling sampling for inducing points.\n",
    "\n",
    "    Args:\n",
    "    -----\n",
    "    - X: the full training dataset\n",
    "    - sample_num: the number of training samples\n",
    "    - sampling_scheme: the sampling scheme\n",
    "    - verbose: print the information\n",
    "    \"\"\"\n",
    "    \n",
    "    # Create virtual samples\n",
    "    if sampling_scheme == 'LHS':\n",
    "        raw_virtual_samples = qmc.LatinHypercube(d=X.shape[1]).random(n=sample_num)\n",
    "    elif sampling_scheme == 'Halton':\n",
    "        raw_virtual_samples = qmc.Halton(d=X.shape[1]).random(sample_num)\n",
    "    else:\n",
    "        raise ValueError(f\"Invalid sampling scheme: {sampling_scheme}\")\n",
    "\n",
    "    # Dataset statistics\n",
    "    X_scaled = MinMaxScaler().fit_transform(X)\n",
    "\n",
    "    # Find closest real samples\n",
    "    sample_finder = NearestNeighbors(n_neighbors=1).fit(X_scaled)\n",
    "    _, indices = sample_finder.kneighbors(raw_virtual_samples)\n",
    "    \n",
    "    # Drop duplicates\n",
    "    train_indices = np.unique(indices)\n",
    "\n",
    "    # Compose train & pool samples\n",
    "    X_induce = X[train_indices.flatten()]\n",
    "  \n",
    "    return X_induce"
   ]
  },
  {
   "cell_type": "code",
   "execution_count": 20,
   "id": "87fb2793-b337-41ed-8f4b-1affc237225a",
   "metadata": {},
   "outputs": [
    {
     "name": "stdout",
     "output_type": "stream",
     "text": [
      "Performing 1-th optimization:\n",
      "Performing 2-th optimization:\n",
      "Performing 3-th optimization:\n",
      "Performing 4-th optimization:\n",
      "Performing 5-th optimization:\n",
      "Best model loss: 2457.2956713108283\n",
      "CPU times: total: 20.5 s\n",
      "Wall time: 7.93 s\n"
     ]
    }
   ],
   "source": [
    "%%time\n",
    "\n",
    "models = []\n",
    "loss = []\n",
    "induce_points_num = 200\n",
    "\n",
    "with tf.device(\"CPU:0\"):\n",
    "\n",
    "    for i, init in enumerate(length_scale):\n",
    "        print(f\"Performing {i+1}-th optimization:\")\n",
    "\n",
    "        # Generate induce points\n",
    "        X_induce = sample_creator(X_train, induce_points_num, sampling_scheme='Halton')\n",
    "        X_induce_norm = scaler.transform(X_induce)\n",
    "\n",
    "        # Set up the kernel\n",
    "        kernel = gpflow.kernels.SquaredExponential(variance=np.var(y_train), lengthscales=init)\n",
    "        model = gpflow.models.SGPR(\n",
    "            (X_train_norm, y_train.reshape(-1, 1)),\n",
    "            kernel=kernel,\n",
    "            inducing_variable=X_induce_norm,\n",
    "            mean_function=gpflow.functions.Polynomial(0)\n",
    "        )\n",
    "        \n",
    "        opt = gpflow.optimizers.Scipy()\n",
    "        loss_closure = model.training_loss_closure(compile=True)\n",
    "        opt.minimize(loss_closure, model.trainable_variables, options=dict(maxiter=100))\n",
    "    \n",
    "        models.append(model)\n",
    "        loss.append(loss_closure().numpy())\n",
    "\n",
    "# Select the model with the highest log-marginal likelihood\n",
    "best_model_index = np.argmin(loss)\n",
    "best_model = models[best_model_index]\n",
    "\n",
    "print(f\"Best model loss: {loss[best_model_index]}\")"
   ]
  },
  {
   "cell_type": "code",
   "execution_count": 21,
   "id": "e1ccfc8b-2b3b-44ca-8b83-0ace9e1b1230",
   "metadata": {},
   "outputs": [
    {
     "name": "stdout",
     "output_type": "stream",
     "text": [
      "RMSE: 8.9259 / data std: 29.9466\n",
      "Max Error: 89.3199\n",
      "Max Percentage Error: 42.42\n",
      "Mean Percentage Error: 5.61\n",
      "Brier score: 0.01320\n"
     ]
    }
   ],
   "source": [
    "X_test_norm = scaler.transform(X_test)\n",
    "f_mean, f_var = best_model.predict_f(X_test_norm, full_cov=False)\n",
    "y_prob = norm.cdf(175, loc=f_mean, scale=np.sqrt(f_var))\n",
    "label = np.where(y_test > 175, 1, 0)\n",
    "brier_score = brier_score_loss(label, 1-y_prob)\n",
    "    \n",
    "rmse, max_e, max_per, _, mean_per = evaluate_model(y_test, f_mean.numpy().flatten())\n",
    "print(f\"RMSE: {rmse:.4f} / data std: {np.std(y_test):.4f}\")\n",
    "print(f\"Max Error: {max_e:.4f}\")\n",
    "print(f\"Max Percentage Error: {max_per:.2f}\")\n",
    "print(f\"Mean Percentage Error: {mean_per:.2f}\")\n",
    "print(f\"Brier score: {brier_score:.5f}\")"
   ]
  },
  {
   "cell_type": "code",
   "execution_count": null,
   "id": "b7aa917b-94ca-4c5c-954c-12cb6564c3b0",
   "metadata": {},
   "outputs": [],
   "source": [
    "# Set the default font size\n",
    "plt.rcParams['font.size'] = 14\n",
    "\n",
    "fig, ax = plt.subplots(figsize=(5, 5))\n",
    "ax.plot(y_test, f_mean.numpy().flatten(), 'o')\n",
    "ax.plot([y_test.min(), y_test.max()], [y_test.min(), y_test.max()], 'r--')\n",
    "ax.set_xlabel('Ground truth')\n",
    "ax.set_ylabel('Prediction')\n",
    "\n",
    "plt.tight_layout()"
   ]
  },
  {
   "cell_type": "markdown",
   "id": "340b5ee7-8683-4661-87de-5aebd9cf36c4",
   "metadata": {},
   "source": [
    "### 3. Propose solutions"
   ]
  },
  {
   "cell_type": "code",
   "execution_count": null,
   "id": "ee2dc960-db4e-4813-87e7-82bdaa5acd08",
   "metadata": {},
   "outputs": [],
   "source": [
    "# Compose dataset\n",
    "Q1, Q2 = 300, 200\n",
    "Q1_array, Q2_array = Q1*np.ones((df_candidates.shape[0], 1)), Q2*np.ones((df_candidates.shape[0], 1))\n",
    "X_candidates = df_candidates.to_numpy()\n",
    "X_candidates = np.hstack((Q1_array, Q2_array, X_candidates))\n",
    "X_candidates_scaled = scaler.transform(X_candidates)"
   ]
  },
  {
   "cell_type": "markdown",
   "id": "96aca69d-2338-4a8a-94b1-cef1268eb47e",
   "metadata": {},
   "source": [
    "#### Calculate weights"
   ]
  },
  {
   "cell_type": "code",
   "execution_count": null,
   "id": "834a215d-512b-4684-a295-b083edc3fd13",
   "metadata": {},
   "outputs": [],
   "source": [
    "def evaluate_weight(X):\n",
    "    # Properties\n",
    "    density_Al = 2700\n",
    "    Fan_height = 40e-3\n",
    "    Fan_Weight = 50.8e-3\n",
    "    N_fan = np.ceil(X[:, 3] / Fan_height)\n",
    "\n",
    "    # Weight calculation\n",
    "    w = density_Al*(X[:, 3]*X[:, 2]*X[:, 4]+X[:, 7]*(X[:, 5]*X[:, 8]*X[:, 4]))+ Fan_Weight*N_fan\n",
    "\n",
    "    return w"
   ]
  },
  {
   "cell_type": "code",
   "execution_count": null,
   "id": "0c8792f5-b622-4a21-a00b-c573233fc2d4",
   "metadata": {},
   "outputs": [],
   "source": [
    "w = evaluate_weight(X_candidates)"
   ]
  },
  {
   "cell_type": "markdown",
   "id": "f524a559-7718-4f48-9245-40fc0851753e",
   "metadata": {},
   "source": [
    "#### GP propsal"
   ]
  },
  {
   "cell_type": "code",
   "execution_count": null,
   "id": "135380ac-ef07-4bf7-af6e-03380919380f",
   "metadata": {},
   "outputs": [],
   "source": [
    "# GP prediction\n",
    "f_mean, f_var = best_model.predict_f(X_candidates_scaled, full_cov=False)\n",
    "f_mean = f_mean.numpy().flatten()\n",
    "f_var = f_var.numpy().flatten()"
   ]
  },
  {
   "cell_type": "code",
   "execution_count": null,
   "id": "2edd8817-b080-40a2-ae7b-e2ce12515548",
   "metadata": {},
   "outputs": [],
   "source": [
    "Tjmax = 175\n",
    "likelihood = norm.cdf(Tjmax, loc=f_mean, scale=np.sqrt(f_var))\n",
    "utility = likelihood*1/w"
   ]
  },
  {
   "cell_type": "code",
   "execution_count": null,
   "id": "351da90d-c044-4c92-94b4-30573e3036cf",
   "metadata": {},
   "outputs": [],
   "source": [
    "# Sort candidates\n",
    "df_candidates = pd.DataFrame(X_candidates)\n",
    "df_candidates.columns = ['Q1', 'Q2', 'd', 'b', 'L', 'c', 'L_duct', 'n', 't', 'xc1', 'yc1', 'xc2', 'yc2']\n",
    "df_candidates['weight'] = w\n",
    "df_candidates['pred_T'] = f_mean\n",
    "df_candidates['utility'] = utility\n",
    "df_candidates_sorted = df_candidates.sort_values(by='utility', ascending=False).reset_index(drop=True)"
   ]
  },
  {
   "cell_type": "code",
   "execution_count": null,
   "id": "36e23870-1960-4943-ac36-9e3885da4b8d",
   "metadata": {},
   "outputs": [],
   "source": [
    "df_candidates_sorted.head(20)"
   ]
  },
  {
   "cell_type": "code",
   "execution_count": null,
   "id": "c10d0e6d-fb22-4f9e-9740-b3c91f237b22",
   "metadata": {},
   "outputs": [],
   "source": [
    "trial_index = 0\n",
    "print(f\"Predicted temperature: {df_candidates_sorted.loc[trial_index, 'pred_T']}\")\n",
    "df_candidates_sorted.iloc[trial_index, 2:-3].to_numpy()"
   ]
  },
  {
   "cell_type": "code",
   "execution_count": null,
   "id": "9505c998-2a67-4861-8374-d64d15afdaa3",
   "metadata": {},
   "outputs": [],
   "source": [
    "def check_constraints(X):\n",
    "\n",
    "    # Dimension\n",
    "    c_module, d_module = 61.4e-3, 106e-3\n",
    "    \n",
    "    # Position\n",
    "    Xc_min = c_module / 2\n",
    "    Xc_max = X[3] - c_module / 2\n",
    "    Yc_min = d_module / 2\n",
    "    Yc_max = X[4] - d_module / 2\n",
    "    \n",
    "    con1 = X[8] < X[3] / X[7] - 1e-3     # For t\n",
    "    con2 = (X[-4] < Xc_max) and (X[-4] > Xc_min) and (X[-3] < Yc_max) and (X[-3] > Yc_min)\n",
    "    con3 = (X[-2] < Xc_max) and (X[-2] > Xc_min) and (X[-1] < Yc_max) and (X[-1] > Yc_min)\n",
    "    con4 = (np.abs(X[-4] - X[-2]) > c_module) | (np.abs(X[-3] - X[-1]) > d_module)\n",
    "    return con1 and con2 and con3 and con4"
   ]
  },
  {
   "cell_type": "code",
   "execution_count": null,
   "id": "50e1db18-01de-434f-a15e-c8d9c02c75b4",
   "metadata": {},
   "outputs": [],
   "source": [
    "check_constraints(df_candidates_sorted.iloc[10, :].to_numpy()[:-2])"
   ]
  },
  {
   "cell_type": "code",
   "execution_count": null,
   "id": "7c30506a-12ff-4632-bc28-a47391e6fb2b",
   "metadata": {},
   "outputs": [],
   "source": [
    "# Save the proposal\n",
    "df_candidates_sorted.to_csv(f'{Q1}_{Q2}_proposal.csv', index=False)"
   ]
  },
  {
   "cell_type": "code",
   "execution_count": null,
   "id": "69484f03-4faf-4a26-8d65-a323aa99323a",
   "metadata": {},
   "outputs": [],
   "source": []
  }
 ],
 "metadata": {
  "kernelspec": {
   "display_name": "Python 3 (ipykernel)",
   "language": "python",
   "name": "python3"
  },
  "language_info": {
   "codemirror_mode": {
    "name": "ipython",
    "version": 3
   },
   "file_extension": ".py",
   "mimetype": "text/x-python",
   "name": "python",
   "nbconvert_exporter": "python",
   "pygments_lexer": "ipython3",
   "version": "3.10.12"
  }
 },
 "nbformat": 4,
 "nbformat_minor": 5
}
