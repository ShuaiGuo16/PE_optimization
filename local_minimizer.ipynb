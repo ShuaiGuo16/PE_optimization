{
 "cells": [
  {
   "cell_type": "markdown",
   "id": "c382178e-0f88-4a8a-8fa1-7adf3d9d2290",
   "metadata": {},
   "source": [
    "### Objective\n",
    "\n",
    "In this notebook, we develop a local optimization routine to find the design that minimizes the weight while satisfying the geometrical and thermal constraints."
   ]
  },
  {
   "cell_type": "code",
   "execution_count": 1,
   "id": "0edc2e28-6ee9-475d-84ea-c2d32200623a",
   "metadata": {},
   "outputs": [],
   "source": [
    "import numpy as np\n",
    "import pandas as pd\n",
    "import matplotlib.pyplot as plt\n",
    "\n",
    "from scipy.optimize import minimize\n",
    "from two_sources import thermal_distribution_maxT"
   ]
  },
  {
   "cell_type": "markdown",
   "id": "e3eea540-49fe-4cf6-8fa7-2ae45d10fc05",
   "metadata": {},
   "source": [
    "#### 1. Load initial guesses"
   ]
  },
  {
   "cell_type": "code",
   "execution_count": 2,
   "id": "e1b0cd13-23a3-4e45-a31c-d0357a29b577",
   "metadata": {},
   "outputs": [],
   "source": [
    "Q1, Q2 = 300, 200\n",
    "df_init = pd.read_csv(f'./dataset/{Q1}_{Q2}_proposal.csv')"
   ]
  },
  {
   "cell_type": "code",
   "execution_count": 3,
   "id": "e875cc4e-870e-4ef5-94bc-7adf73c99630",
   "metadata": {},
   "outputs": [
    {
     "name": "stdout",
     "output_type": "stream",
     "text": [
      "Out of 50 initial guesses, 45 are valid!\n"
     ]
    }
   ],
   "source": [
    "# Filter the feasible solution\n",
    "Data = (25, 50e-3, 65e-3, 61.4e-3, 106e-3)\n",
    "Tjmax = 175\n",
    "c_module, d_module = 61.4e-3, 106e-3\n",
    "\n",
    "X = df_init.iloc[:, :-3].to_numpy()\n",
    "T_max_list = []\n",
    "\n",
    "for input in X:\n",
    "    Tmax, _ = thermal_distribution_maxT(input, Data)\n",
    "    T_max_list.append(Tmax)\n",
    "\n",
    "df_init['Tj'] = np.array(T_max_list)\n",
    "df_filtered = df_init[df_init['Tj']<=Tjmax].reset_index(drop=True)\n",
    "print(f\"Out of {df_init.shape[0]} initial guesses, {df_filtered.shape[0]} are valid!\")\n",
    "df_filtered = df_filtered.sort_values(by='utility', ascending=False).reset_index(drop=True)"
   ]
  },
  {
   "cell_type": "markdown",
   "id": "c5ab23f1-7a75-4663-a579-e9b5c386141b",
   "metadata": {},
   "source": [
    "#### 3. Problem definition"
   ]
  },
  {
   "cell_type": "code",
   "execution_count": 4,
   "id": "3fa824cb-aced-4a54-9538-5acf553301cb",
   "metadata": {},
   "outputs": [],
   "source": [
    "def objective(x):\n",
    "\n",
    "    # Unpack design variables\n",
    "    d, b, L, c, L_duct, n, t, xc1, yc1, xc2, yc2 = x\n",
    "\n",
    "    # Calculate weight\n",
    "    density_Al = 2700\n",
    "    Fan_height = 40e-3\n",
    "    Fan_Weight = 50.8e-3\n",
    "    N_fan = np.ceil(b / Fan_height)\n",
    "\n",
    "    # Weight calculation\n",
    "    w = density_Al*(b*d*L+n*(c*t*L))+ Fan_Weight*N_fan\n",
    "    \n",
    "    return w"
   ]
  },
  {
   "cell_type": "code",
   "execution_count": 5,
   "id": "51bfce1f-954a-48d5-8021-70eb71b1f5b0",
   "metadata": {},
   "outputs": [],
   "source": [
    "def constraint_maxT(x, *args):\n",
    "    \n",
    "    # Unpack fixed parameters\n",
    "    Q1, Q2, Data, Tmax_threshold = args\n",
    "    \n",
    "    # Calculate Tmax\n",
    "    input = np.hstack((Q1, Q2, x))\n",
    "    Tmax, _ = thermal_distribution_maxT(input, Data)\n",
    "    \n",
    "    # Constraint Tmax to be less than or equal to Tmax_threshold\n",
    "    return Tmax_threshold - Tmax"
   ]
  },
  {
   "cell_type": "code",
   "execution_count": 6,
   "id": "ef07620e-e940-4997-b9e1-4577ac54dcab",
   "metadata": {},
   "outputs": [],
   "source": [
    "def non_overlap_constraint(x, *args):\n",
    "\n",
    "    # Unpack design variables\n",
    "    d, b, L, c, L_duct, n, t, xc1, yc1, xc2, yc2 = x\n",
    "    \n",
    "    # Unpack fixed parameters\n",
    "    c_module, d_module = args\n",
    "    \n",
    "    # Calculate distances\n",
    "    xc_dist = abs(xc1 - xc2)  # Assuming these are Xc_first and Xc_second\n",
    "    yc_dist = abs(yc1 - yc2)  # Assuming these are Yc_first and Yc_second\n",
    "    \n",
    "    # Constraints for non-overlapping\n",
    "    return max(xc_dist - c_module, yc_dist - d_module)"
   ]
  },
  {
   "cell_type": "code",
   "execution_count": 7,
   "id": "b637a085-723b-4dbb-a413-55f04535c55b",
   "metadata": {},
   "outputs": [],
   "source": [
    "def t_upper_bound(x):\n",
    "    \n",
    "    # Unpack design variables\n",
    "    d, b, L, c, L_duct, n, t, xc1, yc1, xc2, yc2 = x\n",
    "\n",
    "    return b / n - 1e-3 - t"
   ]
  },
  {
   "cell_type": "code",
   "execution_count": 8,
   "id": "cfa8e08f-2e3a-4992-99b5-6128899617b1",
   "metadata": {},
   "outputs": [],
   "source": [
    "def x1_upper_bound(x, *args):\n",
    "    \n",
    "    # Unpack design variables\n",
    "    d, b, L, c, L_duct, n, t, xc1, yc1, xc2, yc2 = x\n",
    "\n",
    "    # Unpack fixed parameters\n",
    "    c_module, d_module = args\n",
    "\n",
    "    Xc_max = b - c_module / 2\n",
    "\n",
    "    return Xc_max - xc1"
   ]
  },
  {
   "cell_type": "code",
   "execution_count": 9,
   "id": "8474d844-a687-4a64-8780-ceaff41c524b",
   "metadata": {},
   "outputs": [],
   "source": [
    "def x1_lower_bound(x, *args):\n",
    "    \n",
    "    # Unpack design variables\n",
    "    d, b, L, c, L_duct, n, t, xc1, yc1, xc2, yc2 = x\n",
    "\n",
    "    # Unpack fixed parameters\n",
    "    c_module, d_module = args\n",
    "\n",
    "    Xc_min = c_module / 2\n",
    "\n",
    "    return xc1 - Xc_min"
   ]
  },
  {
   "cell_type": "code",
   "execution_count": 10,
   "id": "d9fd2a11-5267-4a7e-9a8c-1183ebb96ce3",
   "metadata": {},
   "outputs": [],
   "source": [
    "def x2_upper_bound(x, *args):\n",
    "    \n",
    "    # Unpack design variables\n",
    "    d, b, L, c, L_duct, n, t, xc1, yc1, xc2, yc2 = x\n",
    "\n",
    "    # Unpack fixed parameters\n",
    "    c_module, d_module = args\n",
    "\n",
    "    Xc_max = b - c_module / 2\n",
    "\n",
    "    return Xc_max - xc2"
   ]
  },
  {
   "cell_type": "code",
   "execution_count": 11,
   "id": "f6a500c2-78d3-47b2-b8ce-b411755e0e38",
   "metadata": {},
   "outputs": [],
   "source": [
    "def x2_lower_bound(x, *args):\n",
    "    \n",
    "    # Unpack design variables\n",
    "    d, b, L, c, L_duct, n, t, xc1, yc1, xc2, yc2 = x\n",
    "\n",
    "    # Unpack fixed parameters\n",
    "    c_module, d_module = args\n",
    "\n",
    "    Xc_min = c_module / 2\n",
    "\n",
    "    return xc2 - Xc_min"
   ]
  },
  {
   "cell_type": "code",
   "execution_count": 12,
   "id": "72d8bc01-649d-47fb-aac1-fa7a9ad13217",
   "metadata": {},
   "outputs": [],
   "source": [
    "def y1_upper_bound(x, *args):\n",
    "    \n",
    "    # Unpack design variables\n",
    "    d, b, L, c, L_duct, n, t, xc1, yc1, xc2, yc2 = x\n",
    "\n",
    "    # Unpack fixed parameters\n",
    "    c_module, d_module = args\n",
    "\n",
    "    Yc_max = L - d_module / 2\n",
    "\n",
    "    return Yc_max - yc1"
   ]
  },
  {
   "cell_type": "code",
   "execution_count": 13,
   "id": "69f4563f-ae2c-47e6-848e-f114c958c036",
   "metadata": {},
   "outputs": [],
   "source": [
    "def y1_lower_bound(x, *args):\n",
    "    \n",
    "    # Unpack design variables\n",
    "    d, b, L, c, L_duct, n, t, xc1, yc1, xc2, yc2 = x\n",
    "\n",
    "    # Unpack fixed parameters\n",
    "    c_module, d_module = args\n",
    "\n",
    "    Yc_min = d_module / 2\n",
    "\n",
    "    return yc1 - Yc_min"
   ]
  },
  {
   "cell_type": "code",
   "execution_count": 14,
   "id": "003d05df-65a4-48a1-ad6a-fb1935c79baa",
   "metadata": {},
   "outputs": [],
   "source": [
    "def y2_upper_bound(x, *args):\n",
    "    \n",
    "    # Unpack design variables\n",
    "    d, b, L, c, L_duct, n, t, xc1, yc1, xc2, yc2 = x\n",
    "\n",
    "    # Unpack fixed parameters\n",
    "    c_module, d_module = args\n",
    "\n",
    "    Yc_max = L - d_module / 2\n",
    "\n",
    "    return Yc_max - yc2"
   ]
  },
  {
   "cell_type": "code",
   "execution_count": 15,
   "id": "c7da2778-8b03-4d4d-9417-8833778715b7",
   "metadata": {},
   "outputs": [],
   "source": [
    "def y2_lower_bound(x, *args):\n",
    "    \n",
    "    # Unpack design variables\n",
    "    d, b, L, c, L_duct, n, t, xc1, yc1, xc2, yc2 = x\n",
    "\n",
    "    # Unpack fixed parameters\n",
    "    c_module, d_module = args\n",
    "\n",
    "    Yc_min = d_module / 2\n",
    "\n",
    "    return yc2 - Yc_min"
   ]
  },
  {
   "cell_type": "code",
   "execution_count": 16,
   "id": "002e2e66-cfad-4c5c-adc9-d4536d7f25e5",
   "metadata": {},
   "outputs": [],
   "source": [
    "class EvaluationCounter:\n",
    "    def __init__(self, func):\n",
    "        self.func = func\n",
    "        self.counter = 0\n",
    "\n",
    "    def __call__(self, *args):\n",
    "        self.counter += 1\n",
    "        return self.func(*args)"
   ]
  },
  {
   "cell_type": "code",
   "execution_count": 17,
   "id": "744e7eff-4d8a-48d1-868b-444fc0ae7014",
   "metadata": {},
   "outputs": [],
   "source": [
    "Tmax_contraint_counter = EvaluationCounter(constraint_maxT)"
   ]
  },
  {
   "cell_type": "code",
   "execution_count": 18,
   "id": "e5def561-b869-45c0-8e71-e9f822c033c4",
   "metadata": {},
   "outputs": [
    {
     "name": "stdout",
     "output_type": "stream",
     "text": [
      "CPU times: total: 17.9 s\n",
      "Wall time: 18 s\n"
     ]
    }
   ],
   "source": [
    "%%time\n",
    "\n",
    "# Bounds\n",
    "d_min, d_max = 5e-3, 30e-3\n",
    "b_min, b_max = 73.7e-3, 307e-3\n",
    "L_min, L_max = 127.2e-3, 530e-3\n",
    "c_min, c_max = 10e-3, 39e-3\n",
    "L_duct_min, L_duct_max = 20e-3, 50e-3\n",
    "n_min, n_max = 10, 50\n",
    "\n",
    "# Define bounds for each variable\n",
    "bounds = [(d_min, d_max), (b_min, b_max), (L_min, L_max), (c_min, c_max), (L_duct_min, L_duct_max), (n_min, n_max),\n",
    "          (1e-3, None),  # Placeholder for t, will need adjustment based on n and b\n",
    "          (None, None), (None, None),  # Placeholder bounds for Xc_first, Yc_first\n",
    "          (None, None), (None, None)]  # Placeholder bounds for Xc_second, Yc_second\n",
    "\n",
    "# Initial guess\n",
    "x0 = df_filtered.iloc[0, 2:-4].to_numpy()\n",
    "\n",
    "# Optimization\n",
    "result = minimize(objective, x0, method='SLSQP', bounds=bounds, \n",
    "                  constraints=[{'type': 'ineq', 'fun': Tmax_contraint_counter, 'args': (Q1, Q2, Data, Tjmax)},\n",
    "                               {'type': 'ineq', 'fun': non_overlap_constraint, 'args': (c_module, d_module)},\n",
    "                               {'type': 'ineq', 'fun': t_upper_bound},\n",
    "                               {'type': 'ineq', 'fun': x1_upper_bound, 'args': (c_module, d_module)},\n",
    "                              {'type': 'ineq', 'fun': x1_lower_bound, 'args': (c_module, d_module)},\n",
    "                              {'type': 'ineq', 'fun': x2_upper_bound, 'args': (c_module, d_module)},\n",
    "                              {'type': 'ineq', 'fun': x2_lower_bound, 'args': (c_module, d_module)},\n",
    "                              {'type': 'ineq', 'fun': y1_upper_bound, 'args': (c_module, d_module)},\n",
    "                              {'type': 'ineq', 'fun': y1_lower_bound, 'args': (c_module, d_module)},\n",
    "                              {'type': 'ineq', 'fun': y2_upper_bound, 'args': (c_module, d_module)},\n",
    "                              {'type': 'ineq', 'fun': y2_lower_bound, 'args': (c_module, d_module)}])"
   ]
  },
  {
   "cell_type": "code",
   "execution_count": 19,
   "id": "ce9ecebb-d0e7-4751-8d97-7c7075a87af6",
   "metadata": {},
   "outputs": [
    {
     "name": "stdout",
     "output_type": "stream",
     "text": [
      "Tjmax constraints evaluation: 267\n",
      "Optimization results:\n"
     ]
    },
    {
     "data": {
      "text/html": [
       "<div>\n",
       "<style scoped>\n",
       "    .dataframe tbody tr th:only-of-type {\n",
       "        vertical-align: middle;\n",
       "    }\n",
       "\n",
       "    .dataframe tbody tr th {\n",
       "        vertical-align: top;\n",
       "    }\n",
       "\n",
       "    .dataframe thead th {\n",
       "        text-align: right;\n",
       "    }\n",
       "</style>\n",
       "<table border=\"1\" class=\"dataframe\">\n",
       "  <thead>\n",
       "    <tr style=\"text-align: right;\">\n",
       "      <th></th>\n",
       "      <th>x0</th>\n",
       "      <th>optimized</th>\n",
       "    </tr>\n",
       "  </thead>\n",
       "  <tbody>\n",
       "    <tr>\n",
       "      <th>d</th>\n",
       "      <td>0.005036</td>\n",
       "      <td>0.005000</td>\n",
       "    </tr>\n",
       "    <tr>\n",
       "      <th>b</th>\n",
       "      <td>0.135006</td>\n",
       "      <td>0.122800</td>\n",
       "    </tr>\n",
       "    <tr>\n",
       "      <th>L</th>\n",
       "      <td>0.130851</td>\n",
       "      <td>0.127200</td>\n",
       "    </tr>\n",
       "    <tr>\n",
       "      <th>c</th>\n",
       "      <td>0.017313</td>\n",
       "      <td>0.014257</td>\n",
       "    </tr>\n",
       "    <tr>\n",
       "      <th>L_duct</th>\n",
       "      <td>0.020918</td>\n",
       "      <td>0.020000</td>\n",
       "    </tr>\n",
       "    <tr>\n",
       "      <th>n</th>\n",
       "      <td>20.000000</td>\n",
       "      <td>13.119298</td>\n",
       "    </tr>\n",
       "    <tr>\n",
       "      <th>t</th>\n",
       "      <td>0.001064</td>\n",
       "      <td>0.001000</td>\n",
       "    </tr>\n",
       "    <tr>\n",
       "      <th>xc1</th>\n",
       "      <td>0.101107</td>\n",
       "      <td>0.092100</td>\n",
       "    </tr>\n",
       "    <tr>\n",
       "      <th>yc1</th>\n",
       "      <td>0.072332</td>\n",
       "      <td>0.063302</td>\n",
       "    </tr>\n",
       "    <tr>\n",
       "      <th>xc2</th>\n",
       "      <td>0.031513</td>\n",
       "      <td>0.030700</td>\n",
       "    </tr>\n",
       "    <tr>\n",
       "      <th>yc2</th>\n",
       "      <td>0.074614</td>\n",
       "      <td>0.053000</td>\n",
       "    </tr>\n",
       "  </tbody>\n",
       "</table>\n",
       "</div>"
      ],
      "text/plain": [
       "               x0  optimized\n",
       "d        0.005036   0.005000\n",
       "b        0.135006   0.122800\n",
       "L        0.130851   0.127200\n",
       "c        0.017313   0.014257\n",
       "L_duct   0.020918   0.020000\n",
       "n       20.000000  13.119298\n",
       "t        0.001064   0.001000\n",
       "xc1      0.101107   0.092100\n",
       "yc1      0.072332   0.063302\n",
       "xc2      0.031513   0.030700\n",
       "yc2      0.074614   0.053000"
      ]
     },
     "execution_count": 19,
     "metadata": {},
     "output_type": "execute_result"
    }
   ],
   "source": [
    "print(f\"Tjmax constraints evaluation: {Tmax_contraint_counter.counter}\")\n",
    "print(f\"Optimization results:\")\n",
    "columns = ['d', 'b', 'L', 'c', 'L_duct', 'n', 't', 'xc1', 'yc1', 'xc2', 'yc2']\n",
    "df = pd.DataFrame({'x0': x0, 'optimized': result.x})\n",
    "df.index = columns\n",
    "df"
   ]
  },
  {
   "cell_type": "markdown",
   "id": "00bba449-8941-4c50-93f2-e318bbe0ef4a",
   "metadata": {},
   "source": [
    "#### Verification"
   ]
  },
  {
   "cell_type": "code",
   "execution_count": 32,
   "id": "ac640b5a-9f6d-4e00-b25d-7352e7f17406",
   "metadata": {},
   "outputs": [],
   "source": [
    "def verification_suite(design, Q1, Q2, Data, Tjmax, c_module, d_module):\n",
    "    \n",
    "    # Tmax constraint\n",
    "    check = Tmax_contraint_counter(result.x, Q1, Q2, Data, Tjmax)\n",
    "    if check >= 0:\n",
    "        print(f\"Tmax verification: True\")\n",
    "    else:\n",
    "        print(f\"Tmax exceeded by {check}\")\n",
    "    \n",
    "    # Coordinates bounds\n",
    "    check = x1_upper_bound(result.x, c_module, d_module)\n",
    "    if check >= 0:\n",
    "        print(f\"x1 upper bound: True\")\n",
    "    else:\n",
    "        print(f\"x1 upper bound violated: {check}\")\n",
    "\n",
    "    check = x1_lower_bound(result.x, c_module, d_module)\n",
    "    if check >= 0:\n",
    "        print(f\"x1 lower bound: True\")\n",
    "    else:\n",
    "        print(f\"x1 lower bound violated: {check}\")\n",
    "\n",
    "    check = x2_upper_bound(result.x, c_module, d_module)\n",
    "    if check >= 0:\n",
    "        print(f\"x2 upper bound: True\")\n",
    "    else:\n",
    "        print(f\"x2 upper bound violated: {check}\")\n",
    "\n",
    "    check = x2_lower_bound(result.x, c_module, d_module)\n",
    "    if check >= 0:\n",
    "        print(f\"x2 lower bound: True\")\n",
    "    else:\n",
    "        print(f\"x2 lower bound violated: {check}\")\n",
    "\n",
    "    check = y1_upper_bound(result.x, c_module, d_module)\n",
    "    if check >= 0:\n",
    "        print(f\"y1 upper bound: True\")\n",
    "    else:\n",
    "        print(f\"y1 upper bound violated: {check}\")\n",
    "\n",
    "    check = y1_lower_bound(result.x, c_module, d_module)\n",
    "    if check >= 0:\n",
    "        print(f\"y1 lower bound: True\")\n",
    "    else:\n",
    "        print(f\"y1 lower bound violated: {check}\")\n",
    "\n",
    "    check = y2_upper_bound(result.x, c_module, d_module)\n",
    "    if check >= 0:\n",
    "        print(f\"y2 upper bound: True\")\n",
    "    else:\n",
    "        print(f\"y2 upper bound violated: {check}\")\n",
    "\n",
    "    check = y2_lower_bound(result.x, c_module, d_module)\n",
    "    if check >= 0:\n",
    "        print(f\"y2 lower bound: True\")\n",
    "    else:\n",
    "        print(f\"y2 lower bound violated: {check}\")\n",
    "\n",
    "    \n",
    "    # Non-overlapping bounds\n",
    "    check = non_overlap_constraint(result.x, c_module, d_module)\n",
    "    if check >= 0:\n",
    "        print(f\"Non-overlapping True\")\n",
    "    else:\n",
    "        print(f\"Non-overlapping violated: {check}\")\n",
    "    \n",
    "    # t bounds\n",
    "    check = t_upper_bound(result.x)\n",
    "    if check >= 0:\n",
    "        print(f\"t bound verification True\")\n",
    "    else:\n",
    "        print(f\"t bound violated: {check}\")"
   ]
  },
  {
   "cell_type": "code",
   "execution_count": 34,
   "id": "987ca2ea-1eb9-4010-9709-9d3e0c51e8cc",
   "metadata": {},
   "outputs": [
    {
     "name": "stdout",
     "output_type": "stream",
     "text": [
      "Tmax exceeded by -3.1693082291894825e-07\n",
      "x1 upper bound: True\n",
      "x1 lower bound: True\n",
      "x2 upper bound: True\n",
      "x2 lower bound violated: -7.476658181460039e-15\n",
      "y1 upper bound: True\n",
      "y1 lower bound: True\n",
      "y2 upper bound: True\n",
      "y2 lower bound violated: -1.1939060851062777e-12\n",
      "Non-overlapping True\n",
      "t bound verification True\n"
     ]
    }
   ],
   "source": [
    "verification_suite(result.x, Q1, Q2, Data, Tjmax, c_module, d_module)"
   ]
  },
  {
   "cell_type": "markdown",
   "id": "b31fa331-14a1-48d3-9ed5-bfd9510abe47",
   "metadata": {},
   "source": [
    "#### Adjust n"
   ]
  },
  {
   "cell_type": "code",
   "execution_count": 45,
   "id": "20c1ea26-6106-4c2b-a721-d4febe4ee03f",
   "metadata": {},
   "outputs": [
    {
     "name": "stdout",
     "output_type": "stream",
     "text": [
      "Adjusting n from 13.119297673215913 to 13 failed.\n",
      "Instead, increase n to 14\n",
      "Adjustment successed. New n ==> 14\n",
      "New Tmax ==> 170.86840909731754\n",
      "Weight changed from 0.4783103033969633 to 0.4826226288921025\n"
     ]
    }
   ],
   "source": [
    "import copy\n",
    "\n",
    "# Extract optimized n\n",
    "n = int(result.x[5])\n",
    "\n",
    "# Check Tmax constraint\n",
    "opt_design = copy.deepcopy(result.x)\n",
    "opt_design[5] = n\n",
    "\n",
    "input = np.hstack((Q1, Q2, opt_design))\n",
    "Tmax, _ = thermal_distribution_maxT(input, Data)\n",
    "\n",
    "if Tmax > Tjmax + 1e-6:\n",
    "    print(f\"Adjusting n from {result.x[5]} to {n} failed.\")\n",
    "\n",
    "    # Start adjustment\n",
    "    while(Tmax > Tjmax + 1e-6):\n",
    "        n += 1\n",
    "        print(f\"Instead, increase n to {n}\")\n",
    "    \n",
    "        opt_design[5] = n\n",
    "        input = np.hstack((Q1, Q2, opt_design))\n",
    "        Tmax, _ = thermal_distribution_maxT(input, Data)\n",
    "\n",
    "    print(f\"Adjustment successed. New n ==> {n}\")\n",
    "    print(f\"New Tmax ==> {Tmax}\")\n",
    "    print(f\"Weight changed from {result.fun} to {objective(opt_design)}\")\n",
    "\n",
    "else:\n",
    "    print(f\"No change needed, {n} satisfy the constraint.\")"
   ]
  },
  {
   "cell_type": "code",
   "execution_count": null,
   "id": "7764f56b-0df2-48a1-8958-586a7ee3ae9f",
   "metadata": {},
   "outputs": [],
   "source": []
  }
 ],
 "metadata": {
  "kernelspec": {
   "display_name": "Python 3 (ipykernel)",
   "language": "python",
   "name": "python3"
  },
  "language_info": {
   "codemirror_mode": {
    "name": "ipython",
    "version": 3
   },
   "file_extension": ".py",
   "mimetype": "text/x-python",
   "name": "python",
   "nbconvert_exporter": "python",
   "pygments_lexer": "ipython3",
   "version": "3.10.13"
  }
 },
 "nbformat": 4,
 "nbformat_minor": 5
}
