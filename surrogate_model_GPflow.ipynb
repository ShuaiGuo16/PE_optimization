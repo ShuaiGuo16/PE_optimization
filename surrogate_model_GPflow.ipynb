{
 "cells": [
  {
   "cell_type": "markdown",
   "id": "979c2810",
   "metadata": {},
   "source": [
    "### Objective\n",
    "\n",
    "In this notebook, we attempt to build surrogate models for predicting the thermal resistance."
   ]
  },
  {
   "cell_type": "code",
   "execution_count": 1,
   "id": "2b6f4ecd",
   "metadata": {},
   "outputs": [
    {
     "name": "stdout",
     "output_type": "stream",
     "text": [
      "WARNING:tensorflow:From C:\\Users\\CHSHGUO\\Anaconda3\\envs\\SciML\\lib\\site-packages\\keras\\src\\losses.py:2976: The name tf.losses.sparse_softmax_cross_entropy is deprecated. Please use tf.compat.v1.losses.sparse_softmax_cross_entropy instead.\n",
      "\n",
      "WARNING:tensorflow:From C:\\Users\\CHSHGUO\\Anaconda3\\envs\\SciML\\lib\\site-packages\\tensorflow_probability\\python\\internal\\backend\\numpy\\_utils.py:48: The name tf.logging.TaskLevelStatusMessage is deprecated. Please use tf.compat.v1.logging.TaskLevelStatusMessage instead.\n",
      "\n",
      "WARNING:tensorflow:From C:\\Users\\CHSHGUO\\Anaconda3\\envs\\SciML\\lib\\site-packages\\tensorflow_probability\\python\\internal\\backend\\numpy\\_utils.py:48: The name tf.control_flow_v2_enabled is deprecated. Please use tf.compat.v1.control_flow_v2_enabled instead.\n",
      "\n"
     ]
    }
   ],
   "source": [
    "import numpy as np\n",
    "import pandas as pd\n",
    "import matplotlib.pyplot as plt\n",
    "import os\n",
    "import sys\n",
    "\n",
    "from sklearn.preprocessing import MinMaxScaler, StandardScaler \n",
    "from sklearn.model_selection import train_test_split\n",
    "from sklearn.pipeline import Pipeline\n",
    "import xgboost as xgb\n",
    "import sklearn.gaussian_process as gp\n",
    "from sklearn.metrics import mean_squared_error, mean_absolute_percentage_error, max_error\n",
    "\n",
    "# Custom Gaussian Process model\n",
    "GP_path = os.path.abspath(os.path.join('../../'))\n",
    "if GP_path not in sys.path:\n",
    "    sys.path.append(GP_path+\"\\\\GaussianProcess\")\n",
    "from GPInterpolator import GPInterpolator\n",
    "\n",
    "import gpflow\n",
    "import tensorflow as tf\n",
    "import tensorflow_probability as tfp"
   ]
  },
  {
   "cell_type": "markdown",
   "id": "ea94f231",
   "metadata": {},
   "source": [
    "### 1. Load dataset"
   ]
  },
  {
   "cell_type": "code",
   "execution_count": 2,
   "id": "0a467ff9",
   "metadata": {},
   "outputs": [
    {
     "name": "stdout",
     "output_type": "stream",
     "text": [
      "Pool: 9421\n"
     ]
    }
   ],
   "source": [
    "df = pd.read_csv('./Dataset/TcTj_train.csv', header=None)\n",
    "df.columns = ['Q1', 'Q2', 'd', 'b', 'L', 'c', 'L_duct', 'n', 't', 'xc1', 'yc1', 'xc2', 'yc2', 'Tc', 'Tj', 'w']\n",
    "print(f\"Pool: {df.shape[0]}\")"
   ]
  },
  {
   "cell_type": "code",
   "execution_count": 3,
   "id": "cd780065-62c1-49ef-b35f-a9c7c48ca451",
   "metadata": {},
   "outputs": [
    {
     "name": "stdout",
     "output_type": "stream",
     "text": [
      "Filtered pol: 9386\n"
     ]
    }
   ],
   "source": [
    "# Remove outliers\n",
    "df = df[df.Tj<250].reset_index(drop=True)\n",
    "print(f\"Filtered pol: {df.shape[0]}\")"
   ]
  },
  {
   "cell_type": "code",
   "execution_count": 4,
   "id": "ef413e0d-18f2-4e05-a28e-2ec2b30e4d37",
   "metadata": {},
   "outputs": [
    {
     "name": "stdout",
     "output_type": "stream",
     "text": [
      "Filtered testing pol: 9375\n"
     ]
    }
   ],
   "source": [
    "# Dedicated testing set\n",
    "df_test = pd.read_csv('./Dataset/TcTj_test.csv', header=None)\n",
    "df_test.columns = ['Q1', 'Q2', 'd', 'b', 'L', 'c', 'L_duct', 'n', 't', 'xc1', 'yc1', 'xc2', 'yc2', 'Tc', 'Tj', 'w']\n",
    "\n",
    "# Remove outliers\n",
    "df_test = df_test[df_test.Tj<250].reset_index(drop=True)\n",
    "print(f\"Filtered testing pol: {df_test.shape[0]}\")"
   ]
  },
  {
   "cell_type": "code",
   "execution_count": 5,
   "id": "ae4178b2",
   "metadata": {},
   "outputs": [],
   "source": [
    "def create_samples(df, train_num):\n",
    "   \n",
    "    # Create dataset\n",
    "    X = df.iloc[:, :-3].to_numpy()\n",
    "    y = df.iloc[:, -2].to_numpy()\n",
    "    \n",
    "    # Train-test split\n",
    "    if train_num < len(df):\n",
    "        test_size = 1-train_num/len(df)\n",
    "        X_train, X_test, y_train, y_test = train_test_split(X, y, test_size=test_size, random_state=42)\n",
    "    else:\n",
    "        X_train, y_train = X, y\n",
    "        X_test, y_test = None, None\n",
    "    \n",
    "    return X_train, X_test, y_train, y_test"
   ]
  },
  {
   "cell_type": "code",
   "execution_count": 8,
   "id": "7786479d-29b2-41fa-a8cc-43881cf99208",
   "metadata": {},
   "outputs": [],
   "source": [
    "# Train-test split\n",
    "X_train, _, y_train, _ = create_samples(df, 100)\n",
    "X_test, _, y_test, _ = create_samples(df_test, 9000)"
   ]
  },
  {
   "cell_type": "markdown",
   "id": "3055a43e",
   "metadata": {},
   "source": [
    "### 2. Model training"
   ]
  },
  {
   "cell_type": "code",
   "execution_count": 7,
   "id": "58670404",
   "metadata": {},
   "outputs": [],
   "source": [
    "def evaluate_model(y_true, y_pred):\n",
    "    \"\"\"This function is used for evaluating the ML models performance.\"\"\"\n",
    "    \n",
    "    rmse = np.sqrt(mean_squared_error(y_true, y_pred))\n",
    "    max_e = max_error(y_true, y_pred)\n",
    "    \n",
    "    percentage = np.abs(y_true-y_pred)/y_true\n",
    "    max_percentage = np.max(percentage)*100\n",
    "    max_percentage_loc = np.argmax(percentage)\n",
    "    mean_percentage = np.mean(percentage)*100\n",
    "    \n",
    "    return rmse, max_e, max_percentage, max_percentage_loc, mean_percentage"
   ]
  },
  {
   "cell_type": "markdown",
   "id": "8c77e600-5d94-482a-8c7f-d61acd0d094a",
   "metadata": {},
   "source": [
    "#### GPflow version (with random initialization)"
   ]
  },
  {
   "cell_type": "code",
   "execution_count": 9,
   "id": "314c45e2-fd4b-4b5c-84b0-0f84cef792b3",
   "metadata": {},
   "outputs": [],
   "source": [
    "from scipy.stats import qmc\n",
    "\n",
    "# Create initial samples\n",
    "n_restarts = 5\n",
    "lb, ub = -3, 3\n",
    "lhd = qmc.LatinHypercube(d=X_train.shape[1], seed=42).random(n_restarts)\n",
    "length_scale = (ub-lb)*lhd + lb\n",
    "length_scale = np.sqrt(1/(2*10**length_scale))"
   ]
  },
  {
   "cell_type": "code",
   "execution_count": 10,
   "id": "e9b1012f-d57a-4554-b2e6-33696d063439",
   "metadata": {},
   "outputs": [],
   "source": [
    "# Normalization\n",
    "scaler = MinMaxScaler()\n",
    "X_train_norm = scaler.fit_transform(X_train)"
   ]
  },
  {
   "cell_type": "code",
   "execution_count": 11,
   "id": "cedc822c-1e05-4f35-bdb6-61c47fcf296c",
   "metadata": {},
   "outputs": [
    {
     "name": "stdout",
     "output_type": "stream",
     "text": [
      "Performing 1-th optimization:\n",
      "Performing 2-th optimization:\n",
      "Performing 3-th optimization:\n",
      "Performing 4-th optimization:\n",
      "Performing 5-th optimization:\n",
      "Best model log-marginal likelihood: -416.48322685795813\n",
      "CPU times: total: 5 s\n",
      "Wall time: 4.97 s\n"
     ]
    }
   ],
   "source": [
    "%%time\n",
    "\n",
    "models = []\n",
    "log_likelihoods = []\n",
    "\n",
    "with tf.device(\"CPU:0\"):\n",
    "\n",
    "    for i, init in enumerate(length_scale):\n",
    "        print(f\"Performing {i+1}-th optimization:\")\n",
    "\n",
    "        # Set up the kernel\n",
    "        kernel = gpflow.kernels.SquaredExponential(variance=np.var(y_train), lengthscales=init)\n",
    "        model = gpflow.models.GPR(\n",
    "            (X_train_norm, y_train.reshape(-1, 1)),\n",
    "            kernel=kernel,\n",
    "            mean_function=gpflow.functions.Polynomial(0)\n",
    "        )\n",
    "        \n",
    "        opt = gpflow.optimizers.Scipy()\n",
    "        opt.minimize(model.training_loss, model.trainable_variables, options=dict(maxiter=100))\n",
    "    \n",
    "        models.append(model)\n",
    "        log_likelihoods.append(model.log_marginal_likelihood().numpy())\n",
    "\n",
    "# Select the model with the highest log-marginal likelihood\n",
    "best_model_index = np.argmax(log_likelihoods)\n",
    "best_model = models[best_model_index]\n",
    "\n",
    "print(f\"Best model log-marginal likelihood: {log_likelihoods[best_model_index]}\")"
   ]
  },
  {
   "cell_type": "code",
   "execution_count": 16,
   "id": "90acf169-a769-42eb-bc3a-8d6ade00249c",
   "metadata": {},
   "outputs": [
    {
     "data": {
      "text/plain": [
       "array([ 0.53914224,  0.9704493 , 43.31320392,  2.07973711,  1.42252394,\n",
       "        1.0803088 , 25.01365568,  3.36744083,  0.13092907,  0.84540317,\n",
       "       44.39347163,  5.48490491,  3.06141431])"
      ]
     },
     "execution_count": 16,
     "metadata": {},
     "output_type": "execute_result"
    }
   ],
   "source": [
    "best_model.kernel.lengthscales.numpy()"
   ]
  },
  {
   "cell_type": "code",
   "execution_count": null,
   "id": "cc9f337d-037e-402d-b51b-fabd4eb29556",
   "metadata": {},
   "outputs": [],
   "source": [
    "gpflow.utilities.print_summary(best_model)"
   ]
  },
  {
   "cell_type": "code",
   "execution_count": null,
   "id": "e2dadf9b-fa5f-4940-957a-e826764c87c6",
   "metadata": {},
   "outputs": [],
   "source": [
    "X_test_norm = scaler.transform(X_test)\n",
    "f_mean, _ = best_model.predict_f(X_test_norm, full_cov=False)\n",
    "    \n",
    "rmse, max_e, max_per, _, mean_per = evaluate_model(y_test, f_mean.numpy().flatten())\n",
    "print(f\"RMSE: {rmse:.4f} / data std: {np.std(y_test):.4f}\")\n",
    "print(f\"Max Error: {max_e:.4f}\")\n",
    "print(f\"Max Percentage Error: {max_per:.2f}\")\n",
    "print(f\"Mean Percentage Error: {mean_per:.2f}\")"
   ]
  },
  {
   "cell_type": "code",
   "execution_count": null,
   "id": "560f4aae",
   "metadata": {},
   "outputs": [],
   "source": [
    "# Set the default font size\n",
    "plt.rcParams['font.size'] = 14\n",
    "\n",
    "fig, ax = plt.subplots(figsize=(5, 5))\n",
    "ax.plot(y_test, f_mean.numpy().flatten(), 'o')\n",
    "ax.plot([y_test.min(), y_test.max()], [y_test.min(), y_test.max()], 'r--')\n",
    "ax.set_xlabel('Ground truth')\n",
    "ax.set_ylabel('Prediction')\n",
    "\n",
    "plt.tight_layout()"
   ]
  },
  {
   "cell_type": "markdown",
   "id": "443f72e0-2244-4e15-b7a1-e8e06c35ab2f",
   "metadata": {},
   "source": [
    "#### Sparse Gaussian Process"
   ]
  },
  {
   "cell_type": "code",
   "execution_count": null,
   "id": "e8d50825-3d94-4626-bc5f-56573e5549c1",
   "metadata": {},
   "outputs": [],
   "source": [
    "from scipy.stats import qmc\n",
    "\n",
    "# Create initial samples\n",
    "n_restarts = 10\n",
    "lb, ub = -3, 3\n",
    "lhd = qmc.LatinHypercube(d=X_train.shape[1], seed=42).random(n_restarts)\n",
    "length_scale = (ub-lb)*lhd + lb\n",
    "length_scale = np.sqrt(1/(2*10**length_scale))\n",
    "\n",
    "scaler = MinMaxScaler()\n",
    "X_train_norm = scaler.fit_transform(X_train)"
   ]
  },
  {
   "cell_type": "code",
   "execution_count": null,
   "id": "0c7b2618-eba9-4346-82bc-f83ccf19b033",
   "metadata": {},
   "outputs": [],
   "source": [
    "from sklearn.neighbors import NearestNeighbors\n",
    "\n",
    "def sample_creator(X, sample_num, sampling_scheme='LHS'):\n",
    "    \"\"\"Space-filling sampling for inducing points.\n",
    "\n",
    "    Args:\n",
    "    -----\n",
    "    - X: the full training dataset\n",
    "    - sample_num: the number of training samples\n",
    "    - sampling_scheme: the sampling scheme\n",
    "    - verbose: print the information\n",
    "    \"\"\"\n",
    "    \n",
    "    # Create virtual samples\n",
    "    if sampling_scheme == 'LHS':\n",
    "        raw_virtual_samples = qmc.LatinHypercube(d=X.shape[1]).random(n=sample_num)\n",
    "    elif sampling_scheme == 'Halton':\n",
    "        raw_virtual_samples = qmc.Halton(d=X.shape[1]).random(sample_num)\n",
    "    else:\n",
    "        raise ValueError(f\"Invalid sampling scheme: {sampling_scheme}\")\n",
    "\n",
    "    # Dataset statistics\n",
    "    X_scaled = MinMaxScaler().fit_transform(X)\n",
    "\n",
    "    # Find closest real samples\n",
    "    sample_finder = NearestNeighbors(n_neighbors=1).fit(X_scaled)\n",
    "    _, indices = sample_finder.kneighbors(raw_virtual_samples)\n",
    "    \n",
    "    # Drop duplicates\n",
    "    train_indices = np.unique(indices)\n",
    "\n",
    "    # Compose train & pool samples\n",
    "    X_induce = X[train_indices.flatten()]\n",
    "  \n",
    "    return X_induce"
   ]
  },
  {
   "cell_type": "code",
   "execution_count": null,
   "id": "604e82fd-fe85-4974-9882-40fe6d146581",
   "metadata": {},
   "outputs": [],
   "source": [
    "%%time\n",
    "\n",
    "models = []\n",
    "loss = []\n",
    "induce_points_num = 500\n",
    "\n",
    "with tf.device(\"CPU:0\"):\n",
    "\n",
    "    for i, init in enumerate(length_scale):\n",
    "        print(f\"Performing {i+1}-th optimization:\")\n",
    "\n",
    "        # Generate induce points\n",
    "        X_induce = sample_creator(X_train, induce_points_num, sampling_scheme='Halton')\n",
    "        X_induce_norm = scaler.transform(X_induce)\n",
    "\n",
    "        # Set up the kernel\n",
    "        kernel = gpflow.kernels.SquaredExponential(variance=np.var(y_train), lengthscales=init)\n",
    "        model = gpflow.models.SGPR(\n",
    "            (X_train_norm, y_train.reshape(-1, 1)),\n",
    "            kernel=kernel,\n",
    "            inducing_variable=X_induce_norm\n",
    "        )\n",
    "        \n",
    "        opt = gpflow.optimizers.Scipy()\n",
    "        loss_closure = model.training_loss_closure(compile=True)\n",
    "        opt.minimize(loss_closure, model.trainable_variables, options=dict(maxiter=100))\n",
    "    \n",
    "        models.append(model)\n",
    "        loss.append(loss_closure().numpy())\n",
    "\n",
    "# Select the model with the highest log-marginal likelihood\n",
    "best_model_index = np.argmin(loss)\n",
    "best_model = models[best_model_index]\n",
    "\n",
    "print(f\"Best model loss: {loss[best_model_index]}\")"
   ]
  },
  {
   "cell_type": "code",
   "execution_count": null,
   "id": "cf6c3e2c-6603-48ce-9d61-0cfbb1ab160c",
   "metadata": {},
   "outputs": [],
   "source": [
    "X_test_norm = scaler.transform(X_test)\n",
    "f_mean, _ = best_model.predict_f(X_test_norm, full_cov=False)\n",
    "    \n",
    "rmse, max_e, max_per, _, mean_per = evaluate_model(y_test, f_mean.numpy().flatten())\n",
    "print(f\"RMSE: {rmse:.4f} / data std: {np.std(y_test):.4f}\")\n",
    "print(f\"Max Error: {max_e:.4f}\")\n",
    "print(f\"Max Percentage Error: {max_per:.2f}\")\n",
    "print(f\"Mean Percentage Error: {mean_per:.2f}\")"
   ]
  },
  {
   "cell_type": "code",
   "execution_count": null,
   "id": "f9547709-8207-438f-9419-ff2663187ec4",
   "metadata": {},
   "outputs": [],
   "source": [
    "# Set the default font size\n",
    "plt.rcParams['font.size'] = 14\n",
    "\n",
    "fig, ax = plt.subplots(figsize=(5, 5))\n",
    "ax.plot(y_test, f_mean.numpy().flatten(), 'o')\n",
    "ax.plot([y_test.min(), y_test.max()], [y_test.min(), y_test.max()], 'r--')\n",
    "ax.set_xlabel('Ground truth')\n",
    "ax.set_ylabel('Prediction')\n",
    "\n",
    "plt.tight_layout()"
   ]
  },
  {
   "cell_type": "code",
   "execution_count": null,
   "id": "82ff05a9-e256-41c9-b0a1-7b4f94f9889f",
   "metadata": {},
   "outputs": [],
   "source": []
  }
 ],
 "metadata": {
  "kernelspec": {
   "display_name": "Python 3 (ipykernel)",
   "language": "python",
   "name": "python3"
  },
  "language_info": {
   "codemirror_mode": {
    "name": "ipython",
    "version": 3
   },
   "file_extension": ".py",
   "mimetype": "text/x-python",
   "name": "python",
   "nbconvert_exporter": "python",
   "pygments_lexer": "ipython3",
   "version": "3.10.12"
  }
 },
 "nbformat": 4,
 "nbformat_minor": 5
}
