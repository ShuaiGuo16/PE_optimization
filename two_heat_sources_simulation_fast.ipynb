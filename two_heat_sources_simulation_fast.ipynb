{
 "cells": [
  {
   "cell_type": "code",
   "execution_count": 1,
   "id": "efde0ce4-2077-4ebc-9fca-c58997334edb",
   "metadata": {},
   "outputs": [],
   "source": [
    "import numpy as np\n",
    "from scipy.optimize import minimize\n",
    "from numpy import ceil, sqrt, tanh, tan, arctan, pi, sinh, cosh, sin, cos\n",
    "from scipy.interpolate import interp1d\n",
    "from scipy.optimize import root_scalar\n",
    "from shapely.geometry import LineString"
   ]
  },
  {
   "cell_type": "markdown",
   "id": "20609c79-77ae-4b78-aef6-bd025ce93bd1",
   "metadata": {},
   "source": [
    "#### Thermal calculation"
   ]
  },
  {
   "cell_type": "code",
   "execution_count": 2,
   "id": "ac7bab57-bc70-446e-b710-4df3913bb714",
   "metadata": {},
   "outputs": [],
   "source": [
    "def InterX(L1, L2=None):\n",
    "    if L2 is None:\n",
    "        L2 = L1\n",
    "    x1, y1 = L1[0, :], L1[1, :]\n",
    "    x2, y2 = L2[0, :], L2[1, :]\n",
    "    P = np.empty((2, 0))\n",
    "    for i in range(len(x1)-1):\n",
    "        for j in range(len(x2)-1):\n",
    "            dx1, dx2 = x1[i+1] - x1[i], x2[j+1] - x2[j]\n",
    "            dy1, dy2 = y1[i+1] - y1[i], y2[j+1] - y2[j]\n",
    "            det = dx1*dy2 - dy1*dx2\n",
    "            if det == 0:\n",
    "                continue  # Parallel lines\n",
    "            dx, dy = x2[j] - x1[i], y2[j] - y1[i]\n",
    "            u = (dx * dy2 - dy * dx2) / det\n",
    "            v = (dx * dy1 - dy * dx1) / det\n",
    "            if (0 <= u <= 1) and (0 <= v <= 1):\n",
    "                Px = x1[i] + u*dx1\n",
    "                Py = y1[i] + u*dy1\n",
    "                P = np.hstack((P, [[Px], [Py]]))\n",
    "    return P"
   ]
  },
  {
   "cell_type": "code",
   "execution_count": 5,
   "id": "0be082b5-9010-4e9c-83bf-7c3133cab11f",
   "metadata": {},
   "outputs": [],
   "source": [
    "def thermal_distribution_maxT_twosources(X, Data):\n",
    "    \n",
    "    # Unpack design variables\n",
    "    Q_first, Q_second, d, b, L, c, L_duct, n, t, Xc_first, Yc_first, Xc_second, Yc_second = X\n",
    "\n",
    "    # Unpack data\n",
    "    Ti, c_source, d_source, c_module, d_module = Data\n",
    "\n",
    "    # Define constants and calculate parameters\n",
    "    lambda_air = 0.02551\n",
    "    lambda_HS = 237\n",
    "    visc_air_K = 156.2e-7\n",
    "    visc_air = 184.9e-7\n",
    "    density_air = 1.184\n",
    "    density_Al = 2700\n",
    "    c_air = 1007\n",
    "    Pr = visc_air * c_air / lambda_air\n",
    "\n",
    "    # Fan properties\n",
    "    Fan_height = 40e-3\n",
    "    Fan_weight = 50.8e-3\n",
    "    Fan_power = 17.4\n",
    "    Fan_A0 = 1081;\n",
    "    Fan_A1 = -1.603e4;\n",
    "    Fan_A2 = -2.797e6;\n",
    "    Fan_A3 = 2.061e8;\n",
    "    Fan_A4 = -5.034e9;\n",
    "    Fan_A5 = 3.923e10;\n",
    "    VF_max = 0.0466 / 3\n",
    "    N_fan = ceil(b / Fan_height)\n",
    "    \n",
    "    width = b / n\n",
    "    s = width - t\n",
    "\n",
    "    # Pressure drop and thermal calculations\n",
    "    V = np.arange(0.0005, VF_max * N_fan + 0.0005, 0.0005)\n",
    "    dh = 2 * s * c / (s + c)\n",
    "    Uhs = V / (n * s * c)\n",
    "    EPS = s / c\n",
    "    Kse = (1 - (1 - (n + 1) * t / b) ** 2) ** 2\n",
    "    Ksc = 0.42 * (1 - (1 - (n + 1) * t / b) ** 2)\n",
    "    fRe_fd = 12 / (np.sqrt(EPS) * (1 + EPS) * (1 - 192 * EPS * np.tanh(np.pi / 2 / EPS) / np.pi ** 5))\n",
    "    fRe = np.sqrt(11.8336 * V / L / n / visc_air_K + fRe_fd ** 2)\n",
    "    fapp = n * visc_air_K * np.sqrt(c * s) * fRe / V\n",
    "    P_hs = (fapp * L / dh + Kse + Ksc) * density_air / 2 * Uhs ** 2\n",
    "    \n",
    "    dh_duct = 2 * b * (b + c) / (3 * b + c)\n",
    "    K_venturi = 0.2\n",
    "    U_duct = V / b / c\n",
    "    EPS_duct = (b + c) / 2 / c\n",
    "    fRe_fd_duct = 12 / (np.sqrt(EPS_duct) * (1 + EPS_duct) * (1 - 192 * EPS_duct * np.tanh(np.pi / 2 / EPS_duct) / np.pi ** 5))\n",
    "    fapp_duct = visc_air_K * np.sqrt(b * (b + c)) / np.sqrt(2) / V * np.sqrt(11.8336 * V / L_duct / visc_air_K + fRe_fd_duct ** 2)\n",
    "    P_duct = (fapp_duct * L_duct / dh_duct * 0.25 + K_venturi) * density_air / 2 * U_duct ** 2\n",
    "    \n",
    "    # Acceleration pressure drop\n",
    "    P_acc = density_air / 2 * V ** 2 * (1 / (n * s * c) ** 2 - 1 / b ** 4)\n",
    "    \n",
    "    # Fan pressure curve\n",
    "    P_fan = Fan_A0 + Fan_A1 * (V / N_fan * 3) + Fan_A2 * (V / N_fan * 3) ** 2 + Fan_A3 * (V / N_fan * 3) ** 3 + Fan_A4 * (V / N_fan * 3) ** 4 + Fan_A5 * (V / N_fan * 3) ** 5\n",
    "    \n",
    "    # Total pressure drop\n",
    "    P_tot = P_hs + P_duct + P_acc\n",
    "    V_cal = InterX(np.vstack((V, P_fan)), np.vstack((V, P_tot)))[0][0]\n",
    "\n",
    "\n",
    "    # Fluid Dynamic Entry Length Calculation\n",
    "    Lh_plus = 0.0822 * EPS * (1 + EPS) ** 2 * (1 - 192 * EPS * np.tanh(np.pi / 2 / EPS) / np.pi ** 5)\n",
    "    Lh = Lh_plus * V_cal / n / visc_air_K\n",
    "    \n",
    "    # Thermal resistance\n",
    "    Ahs = L * b\n",
    "    Rth_d = d / lambda_HS / Ahs\n",
    "    \n",
    "    dh = 2 * s * c / (s + c)\n",
    "    \n",
    "    C1, C2, C3, C4 = 3.24, 1.5, 0.409, 2\n",
    "    Cons = -0.3\n",
    "    m = 2.27 + 1.65 * Pr ** 1.3\n",
    "    z_star = L * n * visc_air_K / Pr / V_cal\n",
    "    \n",
    "    fRe_fd_th = 12 / (np.sqrt(EPS) * (1 + EPS) * (1 - 192 * EPS * np.tanh(np.pi / 2 / EPS) / np.pi ** 5))\n",
    "    fRe_th = np.sqrt(11.8336 * V_cal / L / n / visc_air_K + fRe_fd_th ** 2)\n",
    "    f_Pr = 0.564 / ((1 + (1.664 * Pr ** (1/6)) ** (9/2)) ** (2/9))\n",
    "    Nu = ((C4 * f_Pr / np.sqrt(z_star)) ** m + ((C1 * fRe_th / 8 / np.sqrt(np.pi) / EPS ** Cons) ** 5 + (C2 * C3 * (fRe_th / z_star) ** (1/3)) ** 5) ** (m/5)) ** (1/m)\n",
    "    \n",
    "    h = Nu * lambda_air / dh\n",
    "    \n",
    "    eff_fin = np.tanh(np.sqrt(2 * h * (t + L) / lambda_HS / t / L) * c) / np.sqrt(2 * h * (t + L) / lambda_HS / t / L) / c\n",
    "    Aeff = n * (2 * c * eff_fin + s) * L\n",
    "    Rth_conv = 1 / (density_air * c_air * V_cal * (1 - np.exp(-h * Aeff / density_air / c_air / V_cal)))\n",
    "\n",
    "    k = 237  # Thermal conductivity of heatsink (Aluminum)\n",
    "    density_air = 1.184\n",
    "    c_air = 1007\n",
    "\n",
    "    ########################################\n",
    "\n",
    "    Max_iter = 50\n",
    "    \n",
    "    # Create 2D grids for x and y\n",
    "    x, y = np.meshgrid(np.arange(1e-3, b, 5e-3), np.arange(1e-3, L, 5e-3), indexing='ij')\n",
    "    \n",
    "    m_dot = density_air * V_cal  # Mass flow, assumed constant for this example\n",
    "    A0 = (Q_first + Q_second) * (d / k / b / L + Rth_conv)\n",
    "    \n",
    "    # m1 series calculations\n",
    "    m1_values = np.arange(1, Max_iter + 1)\n",
    "    lamtha = m1_values * np.pi / b\n",
    "    phi_m = (lamtha * np.sinh(lamtha * d) + h / k * np.cosh(lamtha * d)) / \\\n",
    "            (lamtha * np.cosh(lamtha * d) + h / k * np.sinh(lamtha * d))\n",
    "    Am_1 = 2 * Q_first * (np.sin((2 * Xc_first + c_source) / 2 * lamtha) - \\\n",
    "             np.sin((2 * Xc_first - c_source) / 2 * lamtha)) / \\\n",
    "           (b * L * c_source * k * lamtha**2 * phi_m)\n",
    "    Am_2 = 2 * Q_second * (np.sin((2 * Xc_second + c_source) / 2 * lamtha) - \\\n",
    "             np.sin((2 * Xc_second - c_source) / 2 * lamtha)) / \\\n",
    "           (b * L * c_source * k * lamtha**2 * phi_m)\n",
    "    T_diff_m = np.sum(np.cos(lamtha[:, None, None] * x) * (Am_1 + Am_2)[:, None, None], axis=0)\n",
    "\n",
    "    # n1 series calculations\n",
    "    n1_values = np.arange(1, Max_iter + 1)\n",
    "    thelta = n1_values * np.pi / L\n",
    "    phi_n = (thelta * np.sinh(thelta * d) + h / k * np.cosh(thelta * d)) / \\\n",
    "            (thelta * np.cosh(thelta * d) + h / k * np.sinh(thelta * d))\n",
    "    An_1 = 2 * Q_first * (np.sin((2 * Yc_first + d_source) / 2 * thelta) - \\\n",
    "             np.sin((2 * Yc_first - d_source) / 2 * thelta)) / \\\n",
    "           (b * L * d_source * k * thelta**2 * phi_n)\n",
    "    An_2 = 2 * Q_second * (np.sin((2 * Yc_second + d_source) / 2 * thelta) - \\\n",
    "             np.sin((2 * Yc_second - d_source) / 2 * thelta)) / \\\n",
    "           (b * L * d_source * k * thelta**2 * phi_n)\n",
    "    T_diff_n = np.sum(np.cos(thelta[:, None, None] * y) * (An_1 + An_2)[:, None, None], axis=0)\n",
    "\n",
    "\n",
    "    # Double loop calculations for m and n series combined\n",
    "    m_mn_values, n_mn_values = np.arange(1, 51), np.arange(1, 51)\n",
    "    lamtha_mn, thelta_mn = np.meshgrid(m_mn_values * np.pi / b, n_mn_values * np.pi / L, indexing='ij')\n",
    "    beta = np.sqrt(lamtha_mn**2 + thelta_mn**2)\n",
    "    phi_mn = (beta * np.sinh(beta * d) + h / k * np.cosh(beta * d)) / \\\n",
    "             (beta * np.cosh(beta * d) + h / k * np.sinh(beta * d))\n",
    "    Amn_1 = 16 * Q_first * np.cos(lamtha_mn * Xc_first) * np.sin(lamtha_mn * c_source / 2) * \\\n",
    "            np.cos(thelta_mn * Yc_first) * np.sin(thelta_mn * d_source / 2) / \\\n",
    "            (b * L * c_source * d_source * k * beta * lamtha_mn * thelta_mn * phi_mn)\n",
    "    Amn_2 = 16 * Q_second * np.cos(lamtha_mn * Xc_second) * np.sin(lamtha_mn * c_source / 2) * \\\n",
    "            np.cos(thelta_mn * Yc_second) * np.sin(thelta_mn * d_source / 2) / \\\n",
    "            (b * L * c_source * d_source * k * beta * lamtha_mn * thelta_mn * phi_mn)\n",
    "    T_diff_mn = np.sum(np.cos(lamtha_mn[:, :, None, None] * x) * np.cos(thelta_mn[:, :, None, None] * y) * \n",
    "                       (Amn_1[:, :, None, None] + Amn_2[:, :, None, None]), axis=(0, 1))\n",
    "\n",
    "    Tf = Ti + (Q_first + Q_second) * y / m_dot / c_air / L\n",
    "    \n",
    "    # Final temperature difference calculation\n",
    "    T_diff_total = A0 + T_diff_m + T_diff_n + T_diff_mn + Tf\n",
    "    \n",
    "    # Assuming Temperature_surface is meant to collect results\n",
    "    Temperature_surface = np.stack((x.flatten(), y.flatten(), T_diff_total.flatten()), axis=-1)\n",
    "\n",
    "    ########################################\n",
    "    \n",
    "    # Extract Tz (temperature values) and find maximum temperature\n",
    "    Tz = Temperature_surface[:, 2]\n",
    "    T_max = np.max(Tz)\n",
    "    T_max += Q_first*0.117\n",
    "\n",
    "    return T_max, Tz"
   ]
  },
  {
   "cell_type": "code",
   "execution_count": 7,
   "id": "8f80de8f-5eee-497a-8d34-7cdeee744659",
   "metadata": {},
   "outputs": [
    {
     "name": "stdout",
     "output_type": "stream",
     "text": [
      "137.8190940731605\n",
      "CPU times: total: 250 ms\n",
      "Wall time: 265 ms\n"
     ]
    }
   ],
   "source": [
    "%%time\n",
    "Data = (25, 50e-3, 65e-3, 61.4e-3, 106e-3)\n",
    "X = [397.980, 381.190, 0.021736, 0.20004, 0.32107, 0.015976, 0.045993, 45, 0.0011509, 0.062429, 0.120790, 0.128570, 0.059733]\n",
    "Tmax, T = thermal_distribution_maxT_twosources(X, Data)\n",
    "print(Tmax)"
   ]
  },
  {
   "cell_type": "markdown",
   "id": "da821128-7ec9-4acc-87cf-45a0d2eadf42",
   "metadata": {},
   "source": [
    "### Systematic comparison"
   ]
  },
  {
   "cell_type": "code",
   "execution_count": 8,
   "id": "d7b88e22-63b7-425c-928e-a29ed85e6056",
   "metadata": {},
   "outputs": [
    {
     "name": "stdout",
     "output_type": "stream",
     "text": [
      "Pool: 9421\n",
      "Filtered pol: 9386\n"
     ]
    }
   ],
   "source": [
    "import pandas as pd\n",
    "\n",
    "df = pd.read_csv('./Dataset/TcTj_train.csv', header=None)\n",
    "df.columns = ['Q1', 'Q2', 'd', 'b', 'L', 'c', 'L_duct', 'n', 't', 'xc1', 'yc1', 'xc2', 'yc2', 'Tc', 'Tj', 'w']\n",
    "print(f\"Pool: {df.shape[0]}\")\n",
    "\n",
    "# Remove outliers\n",
    "df = df[df.Tj<250].reset_index(drop=True)\n",
    "print(f\"Filtered pol: {df.shape[0]}\")"
   ]
  },
  {
   "cell_type": "code",
   "execution_count": 16,
   "id": "6ba5a16e-701c-46a4-b47b-c4d22840277a",
   "metadata": {},
   "outputs": [
    {
     "name": "stdout",
     "output_type": "stream",
     "text": [
      "Processing 50 samples\n",
      "Processing 100 samples\n",
      "Processing 150 samples\n",
      "Processing 200 samples\n",
      "Processing 250 samples\n",
      "Processing 300 samples\n",
      "Processing 350 samples\n",
      "Processing 400 samples\n",
      "Processing 450 samples\n",
      "Processing 500 samples\n",
      "Processing 550 samples\n",
      "Processing 600 samples\n",
      "Processing 650 samples\n",
      "Processing 700 samples\n",
      "Processing 750 samples\n",
      "Processing 800 samples\n",
      "Processing 850 samples\n",
      "Processing 900 samples\n",
      "Processing 950 samples\n",
      "Processing 1000 samples\n"
     ]
    }
   ],
   "source": [
    "# Extract X and y\n",
    "X = df.iloc[:, :-3].to_numpy()\n",
    "y = df.iloc[:, -2].to_numpy()\n",
    "T_max_list = []\n",
    "\n",
    "for i, input in enumerate(X[:1000]):\n",
    "    if (i+1)%50 == 0:\n",
    "        print(f\"Processing {i+1} samples\")\n",
    "    Tmax, _ = thermal_distribution_maxT_twosources(input, Data)\n",
    "    T_max_list.append(Tmax)"
   ]
  },
  {
   "cell_type": "code",
   "execution_count": 17,
   "id": "6ab13cdb-1d0f-4fe0-8aa1-36cc51e2bfd4",
   "metadata": {},
   "outputs": [
    {
     "data": {
      "text/plain": [
       "Text(0, 0.5, 'Prediction')"
      ]
     },
     "execution_count": 17,
     "metadata": {},
     "output_type": "execute_result"
    },
    {
     "data": {
      "image/png": "[encoded data removed]",
      "text/plain": [
       "<Figure size 500x500 with 1 Axes>"
      ]
     },
     "metadata": {},
     "output_type": "display_data"
    }
   ],
   "source": [
    "import matplotlib.pyplot as plt\n",
    "y_reduced = y[:1000]\n",
    "\n",
    "fig, ax = plt.subplots(figsize=(5, 5))\n",
    "ax.plot(y_reduced, np.array(T_max_list), 'o')\n",
    "ax.plot([y_reduced.min(), y_reduced.max()], [y_reduced.min(), y_reduced.max()], 'r--')\n",
    "ax.set_xlabel('Ground truth')\n",
    "ax.set_ylabel('Prediction')"
   ]
  },
  {
   "cell_type": "code",
   "execution_count": null,
   "id": "a9915b90-5874-453e-8189-ce115d673758",
   "metadata": {},
   "outputs": [],
   "source": [
    "def create_samples(df, train_num):\n",
    "   \n",
    "    # Create dataset\n",
    "    X = df.iloc[:, :-3].to_numpy()\n",
    "    y = df.iloc[:, -2].to_numpy()\n",
    "    \n",
    "    # Train-test split\n",
    "    if train_num < len(df):\n",
    "        test_size = 1-train_num/len(df)\n",
    "        X_train, X_test, y_train, y_test = train_test_split(X, y, test_size=test_size, random_state=42)\n",
    "    else:\n",
    "        X_train, y_train = X, y\n",
    "        X_test, y_test = None, None\n",
    "    \n",
    "    return X_train, X_test, y_train, y_test"
   ]
  },
  {
   "cell_type": "code",
   "execution_count": null,
   "id": "64e3f601-9082-42be-8ff8-d6a85f3a3e7c",
   "metadata": {},
   "outputs": [],
   "source": [
    "X_train, _, y_train, _ = create_samples(df, 100)"
   ]
  },
  {
   "cell_type": "markdown",
   "id": "b2933971-71ba-404a-93f9-accd6149bb6c",
   "metadata": {},
   "source": [
    "#### Optimization routine"
   ]
  },
  {
   "cell_type": "markdown",
   "id": "acc8493f-531e-4ab6-b4ce-37037b881dac",
   "metadata": {},
   "source": [
    "ChatGPT version"
   ]
  },
  {
   "cell_type": "code",
   "execution_count": null,
   "id": "0f7b3813-ab60-4073-8fb8-f4c652bbae43",
   "metadata": {},
   "outputs": [],
   "source": [
    "def objective(x, *args):\n",
    "    # Unpack fixed parameters\n",
    "    Data = args[0]\n",
    "    \n",
    "    # Calculate weight\n",
    "    weight_val = weight(*x[:7])  # Assuming the first 7 variables are d, b, L, c, n, t\n",
    "    \n",
    "    # Return the weight as the objective to minimize\n",
    "    return weight_val\n",
    "\n",
    "def constraint_maxT(x, *args):\n",
    "    # Unpack fixed parameters\n",
    "    Data, Tmax_threshold = args\n",
    "    \n",
    "    # Calculate Tmax\n",
    "    Tmax = thermal_distribution_maxT_twosources(x, Data)\n",
    "    \n",
    "    # Constraint Tmax to be less than or equal to Tmax_threshold\n",
    "    return Tmax_threshold - Tmax\n",
    "\n",
    "def non_overlap_constraint(x, *args):\n",
    "    # Unpack fixed parameters\n",
    "    c_module, d_module = args\n",
    "    \n",
    "    # Calculate distances\n",
    "    xc_dist = abs(x[-4] - x[-2])  # Assuming these are Xc_first and Xc_second\n",
    "    yc_dist = abs(x[-3] - x[-1])  # Assuming these are Yc_first and Yc_second\n",
    "    \n",
    "    # Constraints for non-overlapping\n",
    "    return min(xc_dist - c_module, yc_dist - d_module)\n",
    "\n",
    "# Define bounds for each variable\n",
    "bounds = [(d_min, d_max), (b_min, b_max), (L_min, L_max), (c_min, c_max), (L_duct_min, L_duct_max), (n_min, n_max),\n",
    "          (1e-3, None),  # Placeholder for t, will need adjustment based on n and b\n",
    "          (None, None), (None, None),  # Placeholder bounds for Xc_first, Yc_first\n",
    "          (None, None), (None, None)]  # Placeholder bounds for Xc_second, Yc_second\n",
    "\n",
    "# Additional arguments (fixed parameters)\n",
    "Data = {...}  # Your data here\n",
    "Tmax_threshold = ...  # Define your maximum allowed temperature\n",
    "\n",
    "# Initial guess\n",
    "x0 = [...]  # Initial guess for your design variables\n",
    "\n",
    "# Optimization\n",
    "result = minimize(objective, x0, args=(Data, Tmax_threshold), method='L-BFGS-B', bounds=bounds,\n",
    "                  constraints=[{'type': 'ineq', 'fun': constraint_maxT, 'args': (Data, Tmax_threshold)},\n",
    "                               {'type': 'ineq', 'fun': non_overlap_constraint, 'args': (Data['c_module'], Data['d_module'])}])\n",
    "\n",
    "print(result)"
   ]
  }
 ],
 "metadata": {
  "kernelspec": {
   "display_name": "Python 3 (ipykernel)",
   "language": "python",
   "name": "python3"
  },
  "language_info": {
   "codemirror_mode": {
    "name": "ipython",
    "version": 3
   },
   "file_extension": ".py",
   "mimetype": "text/x-python",
   "name": "python",
   "nbconvert_exporter": "python",
   "pygments_lexer": "ipython3",
   "version": "3.10.12"
  }
 },
 "nbformat": 4,
 "nbformat_minor": 5
}
