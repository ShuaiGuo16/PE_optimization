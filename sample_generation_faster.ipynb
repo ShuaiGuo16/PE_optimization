{
 "cells": [
  {
   "cell_type": "markdown",
   "id": "470e6e6b-1c3d-479b-82d2-1d2c99a1e727",
   "metadata": {},
   "source": [
    "### Objective\n",
    "\n",
    "In this notebook, we generate samples for the input paramters for thermal analysis. Here, we condsider two heat sources."
   ]
  },
  {
   "cell_type": "code",
   "execution_count": null,
   "id": "b634ce7d-548a-4cfb-8ebe-eb7281900cb0",
   "metadata": {},
   "outputs": [],
   "source": [
    "import numpy as np\n",
    "import pandas as pd\n",
    "from scipy.stats import qmc\n",
    "from sklearn.cluster import KMeans\n",
    "from collections import defaultdict\n",
    "import utility"
   ]
  },
  {
   "cell_type": "code",
   "execution_count": null,
   "id": "b3d03b88-69f8-47ec-a85e-667e1c510c0d",
   "metadata": {},
   "outputs": [],
   "source": [
    "def generate_candidates_efficient(lb, ub, num=10000):\n",
    "    \"\"\"\n",
    "    Efficiently generate candidate samples considering dependencies between features.\n",
    "\n",
    "    Args:\n",
    "        lb (array): Lower bounds for each dimension.\n",
    "        ub (array): Upper bounds for each dimension.\n",
    "        num (int): Number of candidate samples to generate.\n",
    "\n",
    "    Returns:\n",
    "        np.ndarray: Array of generated candidate samples with valid positions.\n",
    "    \"\"\"\n",
    "\n",
    "    # Constants\n",
    "    c_module = 61.4e-3\n",
    "    d_module = 106e-3\n",
    "\n",
    "    # Generate scaled samples using Latin Hypercube Sampling\n",
    "    sampler = qmc.LatinHypercube(d=len(lb))\n",
    "    X = sampler.random(n=num) * (ub - lb) + lb\n",
    "    X[:, -1] = np.round(X[:, -1]).astype(int)  # Assuming rounding is needed for the last column\n",
    "\n",
    "    # Storage for results\n",
    "    result_design = []\n",
    "\n",
    "    # Vectorized calculations for t_min, t_max (avoiding divide by zero)\n",
    "    t_min = np.ones(num) * 1e-3\n",
    "    t_max = X[:, 1] / X[:, 5] - 1e-3\n",
    "    valid_t_mask = t_min < t_max\n",
    "\n",
    "    # Pre-calculate ranges for position sampling\n",
    "    Xc_min, Xc_max = c_module / 2, X[:, 1] - c_module / 2\n",
    "    Yc_min, Yc_max = d_module / 2, X[:, 2] - d_module / 2\n",
    "\n",
    "    # Generate positions once outside the loop for all samples and filter valid ones later\n",
    "    position_sampler = qmc.LatinHypercube(d=4)\n",
    "    all_positions = position_sampler.random(n=50 * num).reshape(num, 50, 4)\n",
    "\n",
    "    for i, (sample, is_valid_t) in enumerate(zip(X, valid_t_mask)):\n",
    "        if not is_valid_t:\n",
    "            continue\n",
    "\n",
    "        t = np.random.uniform(t_min[i], t_max[i])\n",
    "\n",
    "        # Scale positions for the current sample\n",
    "        positions = all_positions[i]\n",
    "        positions[:, 0] = positions[:, 0] * (Xc_max[i] - Xc_min) + Xc_min\n",
    "        positions[:, 1] = positions[:, 1] * (Yc_max[i] - Yc_min) + Yc_min\n",
    "        positions[:, 2] = positions[:, 2] * (Xc_max[i] - Xc_min) + Xc_min\n",
    "        positions[:, 3] = positions[:, 3] * (Yc_max[i] - Yc_min) + Yc_min\n",
    "\n",
    "        # Check for non-overlapping positions\n",
    "        xc1, yc1, xc2, yc2 = positions.T\n",
    "        non_overlapping = (np.abs(xc1 - xc2) > c_module) | (np.abs(yc1 - yc2) > d_module)\n",
    "\n",
    "        valid_positions = positions[non_overlapping]\n",
    "        if len(valid_positions) > 0:\n",
    "            random_index = np.random.randint(len(valid_positions))\n",
    "            selected_position = valid_positions[random_index]\n",
    "            result_design.append(np.concatenate([sample, [t], selected_position]))\n",
    "\n",
    "    return np.array(result_design)"
   ]
  },
  {
   "cell_type": "code",
   "execution_count": null,
   "id": "a1b82ed0-2200-4756-ade3-fda494d6d769",
   "metadata": {},
   "outputs": [],
   "source": [
    "%%time\n",
    "lb = np.array([5e-3, 73.7e-3, 127.2e-3, 10e-3, 20e-3, 10])\n",
    "ub = np.array([30e-3, 307e-3, 530e-3, 39e-3, 50e-3, 50])\n",
    "new_candidates = generate_candidates_efficient(lb, ub, num=20000)\n",
    "print(new_candidates.shape[0])"
   ]
  },
  {
   "cell_type": "code",
   "execution_count": null,
   "id": "22cf4b87-8eec-4777-b6d8-d3d73aa3aa99",
   "metadata": {},
   "outputs": [],
   "source": []
  }
 ],
 "metadata": {
  "kernelspec": {
   "display_name": "Python 3 (ipykernel)",
   "language": "python",
   "name": "python3"
  },
  "language_info": {
   "codemirror_mode": {
    "name": "ipython",
    "version": 3
   },
   "file_extension": ".py",
   "mimetype": "text/x-python",
   "name": "python",
   "nbconvert_exporter": "python",
   "pygments_lexer": "ipython3",
   "version": "3.10.13"
  }
 },
 "nbformat": 4,
 "nbformat_minor": 5
}
